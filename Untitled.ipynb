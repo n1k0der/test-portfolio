{
 "cells": [
  {
   "cell_type": "code",
   "execution_count": 1,
   "id": "685cfe34-abec-4359-b488-85bdcd4c8bc8",
   "metadata": {},
   "outputs": [],
   "source": [
    "import pandas as pd\n",
    "from pympler import asizeof\n",
    "import sys"
   ]
  },
  {
   "cell_type": "code",
   "execution_count": 8,
   "id": "9462aea8-2689-459d-a184-c2d8f37c9d63",
   "metadata": {},
   "outputs": [],
   "source": [
    "# support different types of file\n",
    "df_1 = pd.read_csv('archive/monroe county car crach 2003-2015.csv', encoding_errors = 'ignore')"
   ]
  },
  {
   "cell_type": "code",
   "execution_count": 9,
   "id": "373d1e41-24b1-4e7d-88bf-0168aa7bb80c",
   "metadata": {},
   "outputs": [
    {
     "data": {
      "text/plain": [
       "41.590057373046875"
      ]
     },
     "execution_count": 9,
     "metadata": {},
     "output_type": "execute_result"
    }
   ],
   "source": [
    "(asizeof.asizeof(df_1)/1024)/1024"
   ]
  },
  {
   "cell_type": "code",
   "execution_count": 10,
   "id": "a1720405-3ac7-4a31-874f-a952df14ca3d",
   "metadata": {},
   "outputs": [
    {
     "data": {
      "text/html": [
       "<div>\n",
       "<style scoped>\n",
       "    .dataframe tbody tr th:only-of-type {\n",
       "        vertical-align: middle;\n",
       "    }\n",
       "\n",
       "    .dataframe tbody tr th {\n",
       "        vertical-align: top;\n",
       "    }\n",
       "\n",
       "    .dataframe thead th {\n",
       "        text-align: right;\n",
       "    }\n",
       "</style>\n",
       "<table border=\"1\" class=\"dataframe\">\n",
       "  <thead>\n",
       "    <tr style=\"text-align: right;\">\n",
       "      <th></th>\n",
       "      <th>Year</th>\n",
       "      <th>Month</th>\n",
       "      <th>Day</th>\n",
       "      <th>Hour</th>\n",
       "      <th>Latitude</th>\n",
       "      <th>Longitude</th>\n",
       "    </tr>\n",
       "  </thead>\n",
       "  <tbody>\n",
       "    <tr>\n",
       "      <th>count</th>\n",
       "      <td>53943.000000</td>\n",
       "      <td>53943.000000</td>\n",
       "      <td>53943.000000</td>\n",
       "      <td>53718.000000</td>\n",
       "      <td>53913.000000</td>\n",
       "      <td>53913.000000</td>\n",
       "    </tr>\n",
       "    <tr>\n",
       "      <th>mean</th>\n",
       "      <td>2008.968059</td>\n",
       "      <td>6.662162</td>\n",
       "      <td>4.196912</td>\n",
       "      <td>1347.265349</td>\n",
       "      <td>35.582109</td>\n",
       "      <td>-78.619224</td>\n",
       "    </tr>\n",
       "    <tr>\n",
       "      <th>std</th>\n",
       "      <td>3.789760</td>\n",
       "      <td>3.514630</td>\n",
       "      <td>1.909440</td>\n",
       "      <td>531.654039</td>\n",
       "      <td>11.289883</td>\n",
       "      <td>24.957587</td>\n",
       "    </tr>\n",
       "    <tr>\n",
       "      <th>min</th>\n",
       "      <td>2003.000000</td>\n",
       "      <td>1.000000</td>\n",
       "      <td>1.000000</td>\n",
       "      <td>0.000000</td>\n",
       "      <td>0.000000</td>\n",
       "      <td>-88.959213</td>\n",
       "    </tr>\n",
       "    <tr>\n",
       "      <th>25%</th>\n",
       "      <td>2006.000000</td>\n",
       "      <td>4.000000</td>\n",
       "      <td>3.000000</td>\n",
       "      <td>1000.000000</td>\n",
       "      <td>39.142048</td>\n",
       "      <td>-86.551520</td>\n",
       "    </tr>\n",
       "    <tr>\n",
       "      <th>50%</th>\n",
       "      <td>2009.000000</td>\n",
       "      <td>7.000000</td>\n",
       "      <td>4.000000</td>\n",
       "      <td>1400.000000</td>\n",
       "      <td>39.164430</td>\n",
       "      <td>-86.530992</td>\n",
       "    </tr>\n",
       "    <tr>\n",
       "      <th>75%</th>\n",
       "      <td>2012.000000</td>\n",
       "      <td>10.000000</td>\n",
       "      <td>6.000000</td>\n",
       "      <td>1700.000000</td>\n",
       "      <td>39.173344</td>\n",
       "      <td>-86.508288</td>\n",
       "    </tr>\n",
       "    <tr>\n",
       "      <th>max</th>\n",
       "      <td>2015.000000</td>\n",
       "      <td>12.000000</td>\n",
       "      <td>7.000000</td>\n",
       "      <td>2300.000000</td>\n",
       "      <td>41.228665</td>\n",
       "      <td>86.596363</td>\n",
       "    </tr>\n",
       "  </tbody>\n",
       "</table>\n",
       "</div>"
      ],
      "text/plain": [
       "               Year         Month           Day          Hour      Latitude  \\\n",
       "count  53943.000000  53943.000000  53943.000000  53718.000000  53913.000000   \n",
       "mean    2008.968059      6.662162      4.196912   1347.265349     35.582109   \n",
       "std        3.789760      3.514630      1.909440    531.654039     11.289883   \n",
       "min     2003.000000      1.000000      1.000000      0.000000      0.000000   \n",
       "25%     2006.000000      4.000000      3.000000   1000.000000     39.142048   \n",
       "50%     2009.000000      7.000000      4.000000   1400.000000     39.164430   \n",
       "75%     2012.000000     10.000000      6.000000   1700.000000     39.173344   \n",
       "max     2015.000000     12.000000      7.000000   2300.000000     41.228665   \n",
       "\n",
       "          Longitude  \n",
       "count  53913.000000  \n",
       "mean     -78.619224  \n",
       "std       24.957587  \n",
       "min      -88.959213  \n",
       "25%      -86.551520  \n",
       "50%      -86.530992  \n",
       "75%      -86.508288  \n",
       "max       86.596363  "
      ]
     },
     "execution_count": 10,
     "metadata": {},
     "output_type": "execute_result"
    }
   ],
   "source": [
    "df_1.describe()"
   ]
  },
  {
   "cell_type": "code",
   "execution_count": 11,
   "id": "29e9dd98-e4d1-4e27-aa87-5a0ccaf7a691",
   "metadata": {},
   "outputs": [],
   "source": [
    "attributes_dict = dict()\n",
    "for i in df_1.columns:\n",
    "    attributes_dict[i] = {'count': df_1[i].count(),\n",
    "                         'null_values': df_1[i].isnull().sum(),\n",
    "                         'unique_values': df_1[i].drop_duplicates().count()}\n",
    "    "
   ]
  },
  {
   "cell_type": "code",
   "execution_count": 12,
   "id": "9434353c-f014-4bb8-b573-ac93fed72340",
   "metadata": {},
   "outputs": [
    {
     "data": {
      "text/plain": [
       "{'Year': {'count': 53943, 'null_values': 0, 'unique_values': 13},\n",
       " 'Month': {'count': 53943, 'null_values': 0, 'unique_values': 12},\n",
       " 'Day': {'count': 53943, 'null_values': 0, 'unique_values': 7},\n",
       " 'Weekend?': {'count': 53875, 'null_values': 68, 'unique_values': 2},\n",
       " 'Hour': {'count': 53718, 'null_values': 225, 'unique_values': 24},\n",
       " 'Collision Type': {'count': 53937, 'null_values': 6, 'unique_values': 7},\n",
       " 'Injury Type': {'count': 53943, 'null_values': 0, 'unique_values': 4},\n",
       " 'Primary Factor': {'count': 52822, 'null_values': 1121, 'unique_values': 55},\n",
       " 'Reported_Location': {'count': 53908,\n",
       "  'null_values': 35,\n",
       "  'unique_values': 19364},\n",
       " 'Latitude': {'count': 53913, 'null_values': 30, 'unique_values': 15370},\n",
       " 'Longitude': {'count': 53913, 'null_values': 30, 'unique_values': 16068}}"
      ]
     },
     "execution_count": 12,
     "metadata": {},
     "output_type": "execute_result"
    }
   ],
   "source": [
    "attributes_dict"
   ]
  },
  {
   "cell_type": "code",
   "execution_count": 18,
   "id": "d73515eb-3d68-4271-9278-e72479b83937",
   "metadata": {},
   "outputs": [],
   "source": [
    "df_1.to_csv('result.csv')"
   ]
  },
  {
   "cell_type": "code",
   "execution_count": 13,
   "id": "3549ce84-519b-490c-a447-5533cbc673d7",
   "metadata": {},
   "outputs": [
    {
     "name": "stdout",
     "output_type": "stream",
     "text": [
      "Collecting bokeh\n",
      "  Downloading bokeh-3.3.3-py3-none-any.whl (6.8 MB)\n",
      "\u001b[2K     \u001b[38;2;114;156;31m━━━━━━━━━━━━━━━━━━━━━━━━━━━━━━━━━━━━━━━━\u001b[0m \u001b[32m6.8/6.8 MB\u001b[0m \u001b[31m1.7 MB/s\u001b[0m eta \u001b[36m0:00:00\u001b[0mm eta \u001b[36m0:00:01\u001b[0m[36m0:00:01\u001b[0m0m\n",
      "\u001b[?25hRequirement already satisfied: Jinja2>=2.9 in ./venv/lib64/python3.11/site-packages (from bokeh) (3.1.3)\n",
      "Collecting contourpy>=1\n",
      "  Downloading contourpy-1.2.0-cp311-cp311-manylinux_2_17_x86_64.manylinux2014_x86_64.whl (313 kB)\n",
      "\u001b[2K     \u001b[38;2;114;156;31m━━━━━━━━━━━━━━━━━━━━━━━━━━━━━━━━━━━━━━━\u001b[0m \u001b[32m313.4/313.4 kB\u001b[0m \u001b[31m3.9 MB/s\u001b[0m eta \u001b[36m0:00:00\u001b[0m MB/s\u001b[0m eta \u001b[36m0:00:01\u001b[0m\n",
      "\u001b[?25hRequirement already satisfied: numpy>=1.16 in ./venv/lib64/python3.11/site-packages (from bokeh) (1.26.3)\n",
      "Requirement already satisfied: packaging>=16.8 in ./venv/lib64/python3.11/site-packages (from bokeh) (23.2)\n",
      "Requirement already satisfied: pandas>=1.2 in ./venv/lib64/python3.11/site-packages (from bokeh) (2.1.4)\n",
      "Collecting pillow>=7.1.0\n",
      "  Using cached pillow-10.2.0-cp311-cp311-manylinux_2_28_x86_64.whl (4.5 MB)\n",
      "Requirement already satisfied: PyYAML>=3.10 in ./venv/lib64/python3.11/site-packages (from bokeh) (6.0.1)\n",
      "Requirement already satisfied: tornado>=5.1 in ./venv/lib64/python3.11/site-packages (from bokeh) (6.4)\n",
      "Collecting xyzservices>=2021.09.1\n",
      "  Downloading xyzservices-2023.10.1-py3-none-any.whl (56 kB)\n",
      "\u001b[2K     \u001b[38;2;114;156;31m━━━━━━━━━━━━━━━━━━━━━━━━━━━━━━━━━━━━━━━━\u001b[0m \u001b[32m56.3/56.3 kB\u001b[0m \u001b[31m2.3 MB/s\u001b[0m eta \u001b[36m0:00:00\u001b[0m\n",
      "\u001b[?25hRequirement already satisfied: MarkupSafe>=2.0 in ./venv/lib64/python3.11/site-packages (from Jinja2>=2.9->bokeh) (2.1.3)\n",
      "Requirement already satisfied: python-dateutil>=2.8.2 in ./venv/lib64/python3.11/site-packages (from pandas>=1.2->bokeh) (2.8.2)\n",
      "Requirement already satisfied: pytz>=2020.1 in ./venv/lib64/python3.11/site-packages (from pandas>=1.2->bokeh) (2023.3.post1)\n",
      "Requirement already satisfied: tzdata>=2022.1 in ./venv/lib64/python3.11/site-packages (from pandas>=1.2->bokeh) (2023.4)\n",
      "Requirement already satisfied: six>=1.5 in ./venv/lib64/python3.11/site-packages (from python-dateutil>=2.8.2->pandas>=1.2->bokeh) (1.16.0)\n",
      "Installing collected packages: xyzservices, pillow, contourpy, bokeh\n",
      "Successfully installed bokeh-3.3.3 contourpy-1.2.0 pillow-10.2.0 xyzservices-2023.10.1\n",
      "\n",
      "\u001b[1m[\u001b[0m\u001b[34;49mnotice\u001b[0m\u001b[1;39;49m]\u001b[0m\u001b[39;49m A new release of pip available: \u001b[0m\u001b[31;49m22.3.1\u001b[0m\u001b[39;49m -> \u001b[0m\u001b[32;49m23.3.2\u001b[0m\n",
      "\u001b[1m[\u001b[0m\u001b[34;49mnotice\u001b[0m\u001b[1;39;49m]\u001b[0m\u001b[39;49m To update, run: \u001b[0m\u001b[32;49mpip install --upgrade pip\u001b[0m\n"
     ]
    }
   ],
   "source": [
    "!pip install bokeh"
   ]
  },
  {
   "cell_type": "code",
   "execution_count": null,
   "id": "1fcb3d55-36a3-4cbb-84db-b28241fe3575",
   "metadata": {},
   "outputs": [],
   "source": []
  }
 ],
 "metadata": {
  "kernelspec": {
   "display_name": "Python 3 (ipykernel)",
   "language": "python",
   "name": "python3"
  },
  "language_info": {
   "codemirror_mode": {
    "name": "ipython",
    "version": 3
   },
   "file_extension": ".py",
   "mimetype": "text/x-python",
   "name": "python",
   "nbconvert_exporter": "python",
   "pygments_lexer": "ipython3",
   "version": "3.11.7"
  }
 },
 "nbformat": 4,
 "nbformat_minor": 5
}
