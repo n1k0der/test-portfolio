{
 "cells": [
  {
   "cell_type": "code",
   "execution_count": 30,
   "id": "685cfe34-abec-4359-b488-85bdcd4c8bc8",
   "metadata": {},
   "outputs": [],
   "source": [
    "import pandas as pd\n",
    "import numpy as np\n",
    "from pympler import asizeof\n",
    "import sys\n",
    "import seaborn as sns\n",
    "import matplotlib.pyplot as plt"
   ]
  },
  {
   "cell_type": "code",
   "execution_count": 4,
   "id": "9462aea8-2689-459d-a184-c2d8f37c9d63",
   "metadata": {},
   "outputs": [],
   "source": [
    "# support different types of file\n",
    "df_1 = pd.read_csv('archive/monroe county car crach 2003-2015.csv', encoding_errors = 'ignore')"
   ]
  },
  {
   "cell_type": "code",
   "execution_count": 5,
   "id": "373d1e41-24b1-4e7d-88bf-0168aa7bb80c",
   "metadata": {},
   "outputs": [
    {
     "data": {
      "text/plain": [
       "37.494895935058594"
      ]
     },
     "execution_count": 5,
     "metadata": {},
     "output_type": "execute_result"
    }
   ],
   "source": [
    "(asizeof.asizeof(df_1)/1024)/1024"
   ]
  },
  {
   "cell_type": "code",
   "execution_count": 6,
   "id": "a1720405-3ac7-4a31-874f-a952df14ca3d",
   "metadata": {},
   "outputs": [
    {
     "data": {
      "text/html": [
       "<div>\n",
       "<style scoped>\n",
       "    .dataframe tbody tr th:only-of-type {\n",
       "        vertical-align: middle;\n",
       "    }\n",
       "\n",
       "    .dataframe tbody tr th {\n",
       "        vertical-align: top;\n",
       "    }\n",
       "\n",
       "    .dataframe thead th {\n",
       "        text-align: right;\n",
       "    }\n",
       "</style>\n",
       "<table border=\"1\" class=\"dataframe\">\n",
       "  <thead>\n",
       "    <tr style=\"text-align: right;\">\n",
       "      <th></th>\n",
       "      <th>Year</th>\n",
       "      <th>Month</th>\n",
       "      <th>Day</th>\n",
       "      <th>Hour</th>\n",
       "      <th>Latitude</th>\n",
       "      <th>Longitude</th>\n",
       "    </tr>\n",
       "  </thead>\n",
       "  <tbody>\n",
       "    <tr>\n",
       "      <th>count</th>\n",
       "      <td>53943.000000</td>\n",
       "      <td>53943.000000</td>\n",
       "      <td>53943.000000</td>\n",
       "      <td>53718.000000</td>\n",
       "      <td>53913.000000</td>\n",
       "      <td>53913.000000</td>\n",
       "    </tr>\n",
       "    <tr>\n",
       "      <th>mean</th>\n",
       "      <td>2008.968059</td>\n",
       "      <td>6.662162</td>\n",
       "      <td>4.196912</td>\n",
       "      <td>1347.265349</td>\n",
       "      <td>35.582109</td>\n",
       "      <td>-78.619224</td>\n",
       "    </tr>\n",
       "    <tr>\n",
       "      <th>std</th>\n",
       "      <td>3.789760</td>\n",
       "      <td>3.514630</td>\n",
       "      <td>1.909440</td>\n",
       "      <td>531.654039</td>\n",
       "      <td>11.289883</td>\n",
       "      <td>24.957587</td>\n",
       "    </tr>\n",
       "    <tr>\n",
       "      <th>min</th>\n",
       "      <td>2003.000000</td>\n",
       "      <td>1.000000</td>\n",
       "      <td>1.000000</td>\n",
       "      <td>0.000000</td>\n",
       "      <td>0.000000</td>\n",
       "      <td>-88.959213</td>\n",
       "    </tr>\n",
       "    <tr>\n",
       "      <th>25%</th>\n",
       "      <td>2006.000000</td>\n",
       "      <td>4.000000</td>\n",
       "      <td>3.000000</td>\n",
       "      <td>1000.000000</td>\n",
       "      <td>39.142048</td>\n",
       "      <td>-86.551520</td>\n",
       "    </tr>\n",
       "    <tr>\n",
       "      <th>50%</th>\n",
       "      <td>2009.000000</td>\n",
       "      <td>7.000000</td>\n",
       "      <td>4.000000</td>\n",
       "      <td>1400.000000</td>\n",
       "      <td>39.164430</td>\n",
       "      <td>-86.530992</td>\n",
       "    </tr>\n",
       "    <tr>\n",
       "      <th>75%</th>\n",
       "      <td>2012.000000</td>\n",
       "      <td>10.000000</td>\n",
       "      <td>6.000000</td>\n",
       "      <td>1700.000000</td>\n",
       "      <td>39.173344</td>\n",
       "      <td>-86.508288</td>\n",
       "    </tr>\n",
       "    <tr>\n",
       "      <th>max</th>\n",
       "      <td>2015.000000</td>\n",
       "      <td>12.000000</td>\n",
       "      <td>7.000000</td>\n",
       "      <td>2300.000000</td>\n",
       "      <td>41.228665</td>\n",
       "      <td>86.596363</td>\n",
       "    </tr>\n",
       "  </tbody>\n",
       "</table>\n",
       "</div>"
      ],
      "text/plain": [
       "               Year         Month           Day          Hour      Latitude  \\\n",
       "count  53943.000000  53943.000000  53943.000000  53718.000000  53913.000000   \n",
       "mean    2008.968059      6.662162      4.196912   1347.265349     35.582109   \n",
       "std        3.789760      3.514630      1.909440    531.654039     11.289883   \n",
       "min     2003.000000      1.000000      1.000000      0.000000      0.000000   \n",
       "25%     2006.000000      4.000000      3.000000   1000.000000     39.142048   \n",
       "50%     2009.000000      7.000000      4.000000   1400.000000     39.164430   \n",
       "75%     2012.000000     10.000000      6.000000   1700.000000     39.173344   \n",
       "max     2015.000000     12.000000      7.000000   2300.000000     41.228665   \n",
       "\n",
       "          Longitude  \n",
       "count  53913.000000  \n",
       "mean     -78.619224  \n",
       "std       24.957587  \n",
       "min      -88.959213  \n",
       "25%      -86.551520  \n",
       "50%      -86.530992  \n",
       "75%      -86.508288  \n",
       "max       86.596363  "
      ]
     },
     "execution_count": 6,
     "metadata": {},
     "output_type": "execute_result"
    }
   ],
   "source": [
    "df_1.describe()"
   ]
  },
  {
   "cell_type": "code",
   "execution_count": 129,
   "id": "29e9dd98-e4d1-4e27-aa87-5a0ccaf7a691",
   "metadata": {},
   "outputs": [],
   "source": [
    "attributes_dict = dict()\n",
    "for i in df_1.columns:\n",
    "    attributes_dict[i] = {'count': df_1[i].count(),\n",
    "                         'null_values': df_1[i].isnull().sum(),\n",
    "                         'unique_values': df_1[i].drop_duplicates().count()}\n",
    "    if str(df_1[i].dtype).startswith('int') or str(df_1[i].dtype).startswith('float'):\n",
    "        attributes_dict[i].update({\"mean\": df_1[i].mean(), \"std\": df_1[i].std()})\n",
    "        if df_1[i].notnull().sum() <= 100:\n",
    "            bins = 5\n",
    "        elif df_1[i].notnull().sum() > 100 and df_1[i].notnull().sum() <= 5000:\n",
    "            bins = 10\n",
    "        else:\n",
    "            bins = 20\n",
    "\n",
    "        bin_size = ( df_1[i].max() - df_1[i].min())/bins\n",
    "        list_classes = []\n",
    "        for number in range(bins):\n",
    "            prev_num = df_1[i].min() + (number*bin_size)\n",
    "            next_num = df_1[i].min() + (1+(number*bin_size))\n",
    "            class_id = (prev_num + next_num) / 2 \n",
    "            if str(df_1[i].dtype).startswith('int'):\n",
    "                list_classes.append([round(prev_num), round(class_id), round(next_num)])\n",
    "            else:\n",
    "                list_classes.append([prev_num, class_id, next_num])\n",
    "            list_classes = pd.Series(list_classes).drop_duplicates().to_list()\n",
    "\n",
    "        deletable_series = df_1[i]\n",
    "        for bin in range(len(list_classes)):\n",
    "            bin_element = list_classes[bin]\n",
    "            list_classes[bin].append(deletable_series[(deletable_series>= bin_element[0]) & (deletable_series< bin_element[2])].notnull().sum())\n",
    "            deletable_series = deletable_series[~((deletable_series>= bin_element[0]) & (deletable_series< bin_element[2]))]\n",
    "\n",
    "        # final_list = []\n",
    "        # for bin_element in list_classes:\n",
    "        #     if bin_element[3] > 0:\n",
    "        #         final_list.append(bin_element)\n",
    "        # del list_classes\n",
    "        \n",
    "        # attributes_dict[i].update({\"histogram\": final_list, \"bin_size\":bin_size})\n",
    "\n",
    "        attributes_dict[i].update({\"histogram\": list_classes, \"bin_size\":bin_size})"
   ]
  },
  {
   "cell_type": "code",
   "execution_count": 130,
   "id": "9434353c-f014-4bb8-b573-ac93fed72340",
   "metadata": {},
   "outputs": [
    {
     "data": {
      "text/plain": [
       "{'Year': {'count': 53943,\n",
       "  'null_values': 0,\n",
       "  'unique_values': 13,\n",
       "  'mean': 2008.9680588769627,\n",
       "  'std': 3.7897595387706904,\n",
       "  'histogram': [[2003, 2004, 2004, 4625],\n",
       "   [2004, 2004, 2005, 4269],\n",
       "   [2004, 2005, 2005, 0],\n",
       "   [2005, 2005, 2006, 3967],\n",
       "   [2005, 2006, 2006, 0],\n",
       "   [2006, 2006, 2007, 3937],\n",
       "   [2007, 2007, 2008, 4055],\n",
       "   [2007, 2008, 2008, 0],\n",
       "   [2008, 2008, 2009, 4341],\n",
       "   [2008, 2009, 2009, 0],\n",
       "   [2009, 2010, 2010, 4014],\n",
       "   [2010, 2010, 2011, 4060],\n",
       "   [2010, 2011, 2011, 0],\n",
       "   [2011, 2011, 2012, 3914],\n",
       "   [2011, 2012, 2012, 0],\n",
       "   [2012, 2012, 2013, 4223],\n",
       "   [2013, 2013, 2014, 4058],\n",
       "   [2013, 2014, 2014, 0],\n",
       "   [2014, 2014, 2015, 4167],\n",
       "   [2014, 2015, 2015, 0]],\n",
       "  'bin_size': 0.6},\n",
       " 'Month': {'count': 53943,\n",
       "  'null_values': 0,\n",
       "  'unique_values': 12,\n",
       "  'mean': 6.6621619116474795,\n",
       "  'std': 3.5146299812206867,\n",
       "  'histogram': [[1, 2, 2, 4665],\n",
       "   [2, 2, 3, 4541],\n",
       "   [2, 3, 3, 0],\n",
       "   [3, 3, 4, 3842],\n",
       "   [3, 4, 4, 0],\n",
       "   [4, 4, 5, 4574],\n",
       "   [4, 5, 5, 0],\n",
       "   [5, 5, 6, 4212],\n",
       "   [5, 6, 6, 0],\n",
       "   [6, 6, 7, 3752],\n",
       "   [6, 7, 8, 3820],\n",
       "   [7, 8, 8, 0],\n",
       "   [8, 8, 9, 4480],\n",
       "   [8, 9, 9, 0],\n",
       "   [9, 9, 10, 4994],\n",
       "   [9, 10, 10, 0],\n",
       "   [10, 10, 11, 5581],\n",
       "   [10, 11, 11, 0],\n",
       "   [11, 11, 12, 4884],\n",
       "   [11, 12, 12, 0]],\n",
       "  'bin_size': 0.55},\n",
       " 'Day': {'count': 53943,\n",
       "  'null_values': 0,\n",
       "  'unique_values': 7,\n",
       "  'mean': 4.196911554789315,\n",
       "  'std': 1.9094398595870792,\n",
       "  'histogram': [[1, 2, 2, 5291],\n",
       "   [2, 2, 3, 7473],\n",
       "   [2, 3, 3, 0],\n",
       "   [2, 3, 4, 8133],\n",
       "   [3, 3, 4, 0],\n",
       "   [3, 4, 4, 0],\n",
       "   [4, 4, 5, 7880],\n",
       "   [4, 5, 5, 0],\n",
       "   [5, 5, 6, 8122],\n",
       "   [5, 6, 6, 0],\n",
       "   [6, 6, 6, 0],\n",
       "   [6, 6, 7, 9680],\n",
       "   [6, 7, 7, 0],\n",
       "   [7, 7, 8, 7364]],\n",
       "  'bin_size': 0.3},\n",
       " 'Weekend?': {'count': 53875, 'null_values': 68, 'unique_values': 2},\n",
       " 'Hour': {'count': 53718,\n",
       "  'null_values': 225,\n",
       "  'unique_values': 24,\n",
       "  'mean': 1347.265348672698,\n",
       "  'std': 531.6540390804066,\n",
       "  'histogram': [[0.0, 0.5, 1.0, 1115],\n",
       "   [115.0, 115.5, 116.0, 0],\n",
       "   [230.0, 230.5, 231.0, 0],\n",
       "   [345.0, 345.5, 346.0, 0],\n",
       "   [460.0, 460.5, 461.0, 0],\n",
       "   [575.0, 575.5, 576.0, 0],\n",
       "   [690.0, 690.5, 691.0, 0],\n",
       "   [805.0, 805.5, 806.0, 0],\n",
       "   [920.0, 920.5, 921.0, 0],\n",
       "   [1035.0, 1035.5, 1036.0, 0],\n",
       "   [1150.0, 1150.5, 1151.0, 0],\n",
       "   [1265.0, 1265.5, 1266.0, 0],\n",
       "   [1380.0, 1380.5, 1381.0, 0],\n",
       "   [1495.0, 1495.5, 1496.0, 0],\n",
       "   [1610.0, 1610.5, 1611.0, 0],\n",
       "   [1725.0, 1725.5, 1726.0, 0],\n",
       "   [1840.0, 1840.5, 1841.0, 0],\n",
       "   [1955.0, 1955.5, 1956.0, 0],\n",
       "   [2070.0, 2070.5, 2071.0, 0],\n",
       "   [2185.0, 2185.5, 2186.0, 0]],\n",
       "  'bin_size': 115.0},\n",
       " 'Collision Type': {'count': 53937, 'null_values': 6, 'unique_values': 7},\n",
       " 'Injury Type': {'count': 53943, 'null_values': 0, 'unique_values': 4},\n",
       " 'Primary Factor': {'count': 52822, 'null_values': 1121, 'unique_values': 55},\n",
       " 'Reported_Location': {'count': 53908,\n",
       "  'null_values': 35,\n",
       "  'unique_values': 19364},\n",
       " 'Latitude': {'count': 53913,\n",
       "  'null_values': 30,\n",
       "  'unique_values': 15370,\n",
       "  'mean': 35.58210880609305,\n",
       "  'std': 11.289883481707335,\n",
       "  'histogram': [[0.0, 0.5, 1.0, 4908],\n",
       "   [2.0614332735, 2.5614332735, 3.0614332735, 0],\n",
       "   [4.122866547, 4.622866547, 5.122866547, 0],\n",
       "   [6.1842998205, 6.6842998205, 7.1842998205, 0],\n",
       "   [8.245733094, 8.745733094, 9.245733094, 2],\n",
       "   [10.3071663675, 10.8071663675, 11.3071663675, 0],\n",
       "   [12.368599641, 12.868599641, 13.368599641, 0],\n",
       "   [14.4300329145, 14.9300329145, 15.4300329145, 0],\n",
       "   [16.491466188, 16.991466188, 17.491466188, 0],\n",
       "   [18.5528994615, 19.0528994615, 19.5528994615, 0],\n",
       "   [20.614332735, 21.114332735, 21.614332735, 0],\n",
       "   [22.675766008500002, 23.175766008500002, 23.675766008500002, 0],\n",
       "   [24.737199282, 25.237199282, 25.737199282, 0],\n",
       "   [26.7986325555, 27.2986325555, 27.7986325555, 0],\n",
       "   [28.860065829, 29.360065829, 29.860065829, 0],\n",
       "   [30.9214991025, 31.4214991025, 31.9214991025, 0],\n",
       "   [32.982932376, 33.482932376, 33.982932376, 0],\n",
       "   [35.0443656495, 35.5443656495, 36.0443656495, 0],\n",
       "   [37.105798923, 37.605798923, 38.105798923, 1],\n",
       "   [39.1672321965, 39.6672321965, 40.1672321965, 20468]],\n",
       "  'bin_size': 2.0614332735},\n",
       " 'Longitude': {'count': 53913,\n",
       "  'null_values': 30,\n",
       "  'unique_values': 16068,\n",
       "  'mean': -78.6192235322299,\n",
       "  'std': 24.95758672112615,\n",
       "  'histogram': [[-88.959213, -88.459213, -87.959213, 3],\n",
       "   [-80.18143422050001, -79.68143422050001, -79.18143422050001, 0],\n",
       "   [-71.40365544100001, -70.90365544100001, -70.40365544100001, 0],\n",
       "   [-62.6258766615, -62.1258766615, -61.6258766615, 0],\n",
       "   [-53.848097882000005, -53.348097882000005, -52.848097882000005, 0],\n",
       "   [-45.07031910250001, -44.57031910250001, -44.07031910250001, 0],\n",
       "   [-36.292540323000004, -35.792540323000004, -35.292540323000004, 0],\n",
       "   [-27.5147615435, -27.0147615435, -26.5147615435, 0],\n",
       "   [-18.736982764000004, -18.236982764000004, -17.736982764000004, 0],\n",
       "   [-9.959203984500007, -9.459203984500007, -8.959203984500007, 0],\n",
       "   [-1.1814252050000107, -0.6814252050000107, -0.1814252050000107, 0],\n",
       "   [7.5963535745, 8.0963535745, 8.5963535745, 0],\n",
       "   [16.374132353999997, 16.874132353999997, 17.374132353999997, 0],\n",
       "   [25.151911133499993, 25.651911133499993, 26.151911133499993, 0],\n",
       "   [33.929689913000004, 34.429689913000004, 34.929689913000004, 0],\n",
       "   [42.70746869249999, 43.20746869249999, 43.70746869249999, 0],\n",
       "   [51.485247472, 51.985247472, 52.485247472, 0],\n",
       "   [60.26302625150001, 60.76302625150001, 61.26302625150001, 0],\n",
       "   [69.04080503099999, 69.54080503099999, 70.04080503099999, 0],\n",
       "   [77.8185838105, 78.3185838105, 78.8185838105, 0]],\n",
       "  'bin_size': 8.7777787795}}"
      ]
     },
     "execution_count": 130,
     "metadata": {},
     "output_type": "execute_result"
    }
   ],
   "source": [
    "attributes_dict"
   ]
  },
  {
   "cell_type": "code",
   "execution_count": 9,
   "id": "d73515eb-3d68-4271-9278-e72479b83937",
   "metadata": {},
   "outputs": [],
   "source": [
    "df_1.to_csv('result.csv')"
   ]
  },
  {
   "cell_type": "code",
   "execution_count": 75,
   "id": "1fcb3d55-36a3-4cbb-84db-b28241fe3575",
   "metadata": {},
   "outputs": [
    {
     "data": {
      "text/plain": [
       "200.9"
      ]
     },
     "execution_count": 75,
     "metadata": {},
     "output_type": "execute_result"
    }
   ],
   "source": [
    "(2003+2015)/20"
   ]
  },
  {
   "cell_type": "code",
   "execution_count": 16,
   "id": "d276e9ac-b367-4141-b94c-1422c9c48f3c",
   "metadata": {},
   "outputs": [
    {
     "data": {
      "text/plain": [
       "True"
      ]
     },
     "execution_count": 16,
     "metadata": {},
     "output_type": "execute_result"
    }
   ],
   "source": [
    "str(df_1.Latitude.dtype).startswith('float')"
   ]
  },
  {
   "cell_type": "code",
   "execution_count": 21,
   "id": "25d90733-3247-4bac-871d-047323c79a0b",
   "metadata": {},
   "outputs": [],
   "source": [
    "test_dict = {\"a\": 1}"
   ]
  },
  {
   "cell_type": "code",
   "execution_count": 22,
   "id": "34a384f4-b486-4d93-8edc-cfbe7ebe56fb",
   "metadata": {},
   "outputs": [],
   "source": [
    "test_dict.update({'b':2}) "
   ]
  },
  {
   "cell_type": "code",
   "execution_count": 23,
   "id": "475bd082-bdc1-4fd7-bf3d-a395e5b25be1",
   "metadata": {},
   "outputs": [
    {
     "data": {
      "text/plain": [
       "{'a': 1, 'b': 2}"
      ]
     },
     "execution_count": 23,
     "metadata": {},
     "output_type": "execute_result"
    }
   ],
   "source": [
    "test_dict"
   ]
  },
  {
   "cell_type": "code",
   "execution_count": 25,
   "id": "e520a6af-dee4-43a1-bf50-af0f0ae74adb",
   "metadata": {},
   "outputs": [
    {
     "data": {
      "text/plain": [
       "11.289883481707335"
      ]
     },
     "execution_count": 25,
     "metadata": {},
     "output_type": "execute_result"
    }
   ],
   "source": [
    "df_1.Latitude.std()"
   ]
  },
  {
   "cell_type": "code",
   "execution_count": 44,
   "id": "2fddc996-01fa-4737-aedc-a13020859000",
   "metadata": {},
   "outputs": [],
   "source": [
    "test_num = (df_1.Latitude.min() + df_1.Latitude.max())/10"
   ]
  },
  {
   "cell_type": "code",
   "execution_count": 50,
   "id": "6b9c650a-4a68-428f-a882-bf0880d573a1",
   "metadata": {},
   "outputs": [
    {
     "data": {
      "text/plain": [
       "41.22866547"
      ]
     },
     "execution_count": 50,
     "metadata": {},
     "output_type": "execute_result"
    }
   ],
   "source": [
    "df_1.Latitude.max()"
   ]
  },
  {
   "cell_type": "code",
   "execution_count": 40,
   "id": "f359a5ef-c464-4ff1-bd7a-3689b5764f9a",
   "metadata": {},
   "outputs": [
    {
     "data": {
      "text/plain": [
       "232.1917311189182"
      ]
     },
     "execution_count": 40,
     "metadata": {},
     "output_type": "execute_result"
    }
   ],
   "source": [
    "df_1.Latitude"
   ]
  },
  {
   "cell_type": "code",
   "execution_count": 51,
   "id": "0220cc18-a0ed-40e4-aaa0-c7cfd7ab3fb3",
   "metadata": {},
   "outputs": [],
   "source": [
    "list_classes = []\n",
    "for i in range(10+1):\n",
    "    prev_num = df_1.Latitude.min() + (i*test_num)\n",
    "    next_num = df_1.Latitude.min() + (1+(i*test_num))\n",
    "    class_id = (prev_num + next_num) / 2 \n",
    "    list_classes.append((class_id, next_num))\n",
    "    "
   ]
  },
  {
   "cell_type": "code",
   "execution_count": 54,
   "id": "2cc08e66-85f2-45e5-a7cb-bb5f9c70877a",
   "metadata": {},
   "outputs": [
    {
     "data": {
      "text/plain": [
       "[(0.5, 1.0),\n",
       " (4.622866547, 5.122866547),\n",
       " (8.745733094, 9.245733094),\n",
       " (12.868599641, 13.368599641),\n",
       " (16.991466188, 17.491466188),\n",
       " (21.114332735, 21.614332735),\n",
       " (25.237199282, 25.737199282),\n",
       " (29.360065829, 29.860065829),\n",
       " (33.482932376, 33.982932376),\n",
       " (37.605798923, 38.105798923),\n",
       " (41.72866547, 42.22866547)]"
      ]
     },
     "execution_count": 54,
     "metadata": {},
     "output_type": "execute_result"
    }
   ],
   "source": [
    "list_classes"
   ]
  },
  {
   "cell_type": "code",
   "execution_count": 87,
   "id": "bfc61f55-0636-4e3b-8771-ef9a3514a839",
   "metadata": {},
   "outputs": [
    {
     "data": {
      "text/plain": [
       "Series([], Name: Latitude, dtype: float64)"
      ]
     },
     "execution_count": 87,
     "metadata": {},
     "output_type": "execute_result"
    }
   ],
   "source": [
    "df_1['Latitude'][(df_1['Latitude']>= list_bin[0]) & (df_1['Latitude']< list_bin[2])]"
   ]
  },
  {
   "cell_type": "code",
   "execution_count": 131,
   "id": "2ce645e9-7c60-49a8-9240-16745b5f019a",
   "metadata": {},
   "outputs": [],
   "source": [
    "test_list = [[2003, 2004, 2004, 4625],\n",
    "   [2004, 2004, 2005, 4269],\n",
    "   [2004, 2005, 2005, 0],\n",
    "   [2005, 2005, 2006, 3967],\n",
    "   [2005, 2006, 2006, 0],\n",
    "   [2006, 2006, 2007, 3937],\n",
    "   [2007, 2007, 2008, 4055],\n",
    "   [2007, 2008, 2008, 0],\n",
    "   [2008, 2008, 2009, 4341],\n",
    "   [2008, 2009, 2009, 0],\n",
    "   [2009, 2010, 2010, 4014],\n",
    "   [2010, 2010, 2011, 4060],\n",
    "   [2010, 2011, 2011, 0],\n",
    "   [2011, 2011, 2012, 3914],\n",
    "   [2011, 2012, 2012, 0],\n",
    "   [2012, 2012, 2013, 4223],\n",
    "   [2013, 2013, 2014, 4058],\n",
    "   [2013, 2014, 2014, 0],\n",
    "   [2014, 2014, 2015, 4167],\n",
    "   [2014, 2015, 2015, 0]]"
   ]
  },
  {
   "cell_type": "code",
   "execution_count": 132,
   "id": "5dbae21a-c271-4a9c-80fa-90961d241ee1",
   "metadata": {},
   "outputs": [],
   "source": [
    "counter = 0\n",
    "for i in test_list:\n",
    "    counter += i[-1]"
   ]
  },
  {
   "cell_type": "code",
   "execution_count": 133,
   "id": "813e905d-98d1-4d10-8275-8e6c29db44c4",
   "metadata": {},
   "outputs": [
    {
     "data": {
      "text/plain": [
       "49630"
      ]
     },
     "execution_count": 133,
     "metadata": {},
     "output_type": "execute_result"
    }
   ],
   "source": [
    "counter"
   ]
  },
  {
   "cell_type": "code",
   "execution_count": 113,
   "id": "1a9a93bd-dccf-4bd7-8877-ef16c95bfdef",
   "metadata": {},
   "outputs": [
    {
     "data": {
      "text/plain": [
       "53943"
      ]
     },
     "execution_count": 113,
     "metadata": {},
     "output_type": "execute_result"
    }
   ],
   "source": [
    "df_1.Year.notnull().sum()"
   ]
  },
  {
   "cell_type": "code",
   "execution_count": null,
   "id": "0d36c1ca-d429-4c78-a4d2-55f364e2ecb6",
   "metadata": {},
   "outputs": [],
   "source": [
    "I solved it "
   ]
  }
 ],
 "metadata": {
  "kernelspec": {
   "display_name": "Python 3 (ipykernel)",
   "language": "python",
   "name": "python3"
  },
  "language_info": {
   "codemirror_mode": {
    "name": "ipython",
    "version": 3
   },
   "file_extension": ".py",
   "mimetype": "text/x-python",
   "name": "python",
   "nbconvert_exporter": "python",
   "pygments_lexer": "ipython3",
   "version": "3.12.1"
  }
 },
 "nbformat": 4,
 "nbformat_minor": 5
}
